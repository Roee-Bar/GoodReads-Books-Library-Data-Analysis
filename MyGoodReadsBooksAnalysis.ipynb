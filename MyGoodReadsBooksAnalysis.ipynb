{
 "cells": [
  {
   "cell_type": "markdown",
   "metadata": {},
   "source": [
    "#### Import Libraries"
   ]
  },
  {
   "cell_type": "code",
   "execution_count": 398,
   "metadata": {},
   "outputs": [],
   "source": [
    "# Import necessary libraries\n",
    "import pandas as pd"
   ]
  },
  {
   "cell_type": "markdown",
   "metadata": {},
   "source": [
    "#### Load CSV File"
   ]
  },
  {
   "cell_type": "code",
   "execution_count": 399,
   "metadata": {},
   "outputs": [],
   "source": [
    "# Read the CSV file into a DataFrame\n",
    "raw_data = pd.read_csv(\"my_goodreads_library_export_14_12_23.csv\")\n",
    "df = raw_data.copy()"
   ]
  },
  {
   "cell_type": "markdown",
   "metadata": {},
   "source": [
    "#### Drop Unnecessary Columns"
   ]
  },
  {
   "cell_type": "code",
   "execution_count": 400,
   "metadata": {},
   "outputs": [],
   "source": [
    "# Drop unnecessary columns\n",
    "Columns_to_drop = [\"Book Id\",\"ISBN\",\"ISBN13\",\"Binding\",\"Author l-f\",\n",
    "                   \"My Rating\",\"My Review\",\"Spoiler\",\"Private Notes\",\n",
    "                   \"Owned Copies\",\"Bookshelves with positions\",\"Read Count\",\n",
    "                   \"Bookshelves\",\"Date Added\",'Additional Authors',\n",
    "                   'Date Read']\n",
    "df = df.drop(Columns_to_drop, axis = 1)"
   ]
  },
  {
   "cell_type": "markdown",
   "metadata": {},
   "source": [
    "### Clean Title Column\n",
    "#### In Title: Column Drop Content In Parenthesis"
   ]
  },
  {
   "cell_type": "code",
   "execution_count": 401,
   "metadata": {},
   "outputs": [],
   "source": [
    "# Clean 'Title' column\n",
    "# Define a function to drop content in parenthesis\n",
    "def drop_parenthesis_content(title):\n",
    "\n",
    "    delimiter = '('\n",
    "\n",
    "    if delimiter in title:\n",
    "\n",
    "        # split the title with the delimiter and return the first part\n",
    "        return title.split(delimiter, 1)[0]\n",
    "    \n",
    "    # If title dose not contains the delimiter\n",
    "    # Return the original title\n",
    "    return title.strip()\n",
    "\n",
    "# Use the drop_parenthesis_content function to drop the content in parenthesis in the title\n",
    "df['Title'] = df['Title'].apply(drop_parenthesis_content)\n"
   ]
  },
  {
   "cell_type": "markdown",
   "metadata": {},
   "source": [
    "#### Split the Title Column to: Main Title Column,  Secondary Title Column"
   ]
  },
  {
   "cell_type": "code",
   "execution_count": 402,
   "metadata": {},
   "outputs": [],
   "source": [
    "# Define a function to split the title and return 2 titles\n",
    "def split_titles(title):\n",
    "    \n",
    "    delimiter = ':' \n",
    "        \n",
    "    # If title contains the delimiter:\n",
    "    if delimiter in title:\n",
    "\n",
    "        # split the title to main and second title with the delimiter\n",
    "        main_title, secondary_title = title.split(delimiter, 1)\n",
    "        return main_title.strip(), secondary_title\n",
    "    \n",
    "    return title.strip(), None\n",
    "\n",
    "# Use the split_titles function to create new columns\n",
    "df[['Main Title', 'Secondary Title']] = df['Title'].apply(split_titles).apply(pd.Series)\n",
    "\n",
    "# Drop the original 'Title' column\n",
    "df = df.drop('Title', axis=1)\n",
    "\n",
    "# Change the order of the columns\n",
    "# Move last 2 columns to be the first 2 columns\n",
    "columns = df.columns\n",
    "desired_column_order = columns[-2:].append(columns[:-2])\n",
    "df = df[desired_column_order]"
   ]
  },
  {
   "cell_type": "markdown",
   "metadata": {},
   "source": [
    "#### Convert columns to Integer"
   ]
  },
  {
   "cell_type": "code",
   "execution_count": 403,
   "metadata": {},
   "outputs": [],
   "source": [
    "# Specified columns to convert to integer\n",
    "columns_to_int = ['Number of Pages', 'Original Publication Year']\n",
    "\n",
    "def convert_column_to_int(df, column_name):\n",
    "    # Fill NaN values with 0 and convert column to integer\n",
    "    df[column_name] = df[column_name].fillna(0).astype(int)\n",
    "\n",
    "# Use the convert_column_to_int function to the specified columns\n",
    "for column_name in columns_to_int:\n",
    "    convert_column_to_int(df, column_name)"
   ]
  },
  {
   "cell_type": "markdown",
   "metadata": {},
   "source": [
    "#### Creat Read Books DataFrame"
   ]
  },
  {
   "cell_type": "code",
   "execution_count": 404,
   "metadata": {},
   "outputs": [],
   "source": [
    "# Creat read books DataFrame\n",
    "read_books_df = df[df['Exclusive Shelf'] == 'read']\n",
    "read_books_df = read_books_df.drop(\"Exclusive Shelf\", axis = 1)"
   ]
  },
  {
   "cell_type": "markdown",
   "metadata": {},
   "source": [
    "#### Creat To Read Books DataFrame"
   ]
  },
  {
   "cell_type": "code",
   "execution_count": 405,
   "metadata": {},
   "outputs": [],
   "source": [
    "# Creat read books DataFrame\n",
    "to_read_books_df = df[df['Exclusive Shelf'] == 'to-read']\n",
    "to_read_books_df = to_read_books_df.drop(\"Exclusive Shelf\", axis = 1)"
   ]
  },
  {
   "cell_type": "markdown",
   "metadata": {},
   "source": [
    "#### Save the DataFrame to a CSV file"
   ]
  },
  {
   "cell_type": "code",
   "execution_count": 406,
   "metadata": {},
   "outputs": [],
   "source": [
    "# Specify the desired file path for the CSV file\n",
    "csv_file_path = 'my_goodreads_library_14_12_23_cleaned.csv'\n",
    "\n",
    "# Save the DataFrame to a CSV file\n",
    "df.to_csv(csv_file_path, index=False)"
   ]
  }
 ],
 "metadata": {
  "kernelspec": {
   "display_name": "Python 3",
   "language": "python",
   "name": "python3"
  },
  "language_info": {
   "codemirror_mode": {
    "name": "ipython",
    "version": 3
   },
   "file_extension": ".py",
   "mimetype": "text/x-python",
   "name": "python",
   "nbconvert_exporter": "python",
   "pygments_lexer": "ipython3",
   "version": "3.10.7"
  }
 },
 "nbformat": 4,
 "nbformat_minor": 2
}
