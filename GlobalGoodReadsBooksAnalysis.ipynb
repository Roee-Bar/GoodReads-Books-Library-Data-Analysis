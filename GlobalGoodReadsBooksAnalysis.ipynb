{
 "cells": [
  {
   "cell_type": "markdown",
   "metadata": {},
   "source": [
    "#### Import Libraries"
   ]
  },
  {
   "cell_type": "code",
   "execution_count": 11,
   "metadata": {},
   "outputs": [],
   "source": [
    "from selenium import webdriver\n",
    "from selenium.webdriver.common.keys import Keys\n",
    "from selenium.webdriver.chrome.options import Options\n",
    "from selenium.webdriver.common.by import By\n",
    "from selenium.webdriver.support.ui import WebDriverWait\n",
    "from selenium.webdriver.support import expected_conditions as EC\n",
    "from seleniumwire import webdriver as wiredriver\n",
    "from bs4 import BeautifulSoup\n",
    "import time"
   ]
  },
  {
   "cell_type": "markdown",
   "metadata": {},
   "source": [
    "#### Define Functions"
   ]
  },
  {
   "cell_type": "code",
   "execution_count": 12,
   "metadata": {},
   "outputs": [],
   "source": [
    "def get_driver():\n",
    "    options = Options()\n",
    "    options.headless = True\n",
    "    return wiredriver.Chrome(options=options)\n",
    "\n",
    "def get_site_data(driver, url, scrolls_num, sleep_time):\n",
    "    driver.get(url)\n",
    "\n",
    "    # Scroll down to trigger dynamic content loading\n",
    "    body = driver.find_element(By.TAG_NAME, 'body')\n",
    "    for _ in range(scrolls_num):  # You might need to adjust the number of scrolls\n",
    "        body.send_keys(Keys.END)\n",
    "        time.sleep(sleep_time)  # Add a delay to allow content to load\n",
    "\n",
    "    # Add a delay to allow content to load\n",
    "    time.sleep(sleep_time)\n",
    "\n",
    "    return driver\n"
   ]
  },
  {
   "cell_type": "markdown",
   "metadata": {},
   "source": [
    "#### Gather HTML Data From Goodreads -> goodreads_html_data"
   ]
  },
  {
   "cell_type": "code",
   "execution_count": 13,
   "metadata": {},
   "outputs": [],
   "source": [
    "url = \"https://www.goodreads.com/review/list/167714888-roee-bar?utf8=%E2%9C%93&utf8=%E2%9C%93&shelf=&title=roee-bar&per_page=infinite\"\n",
    "driver = get_driver()\n",
    "driver = get_site_data(driver, url, scrolls_num = 8, sleep_time = 5)\n",
    "goodreads_html_data = driver.page_source\n"
   ]
  },
  {
   "cell_type": "markdown",
   "metadata": {},
   "source": [
    "#### Get Books URL From Gathered Data -> href_values"
   ]
  },
  {
   "cell_type": "code",
   "execution_count": 14,
   "metadata": {},
   "outputs": [
    {
     "name": "stdout",
     "output_type": "stream",
     "text": [
      "/book/show/40549476-this-is-marketing\n",
      "/book/show/324748.The_Dip\n",
      "/book/show/53479927-the-practice\n",
      "/book/show/7235533-the-way-of-kings\n",
      "/book/show/37903770-norse-mythology\n",
      "/book/show/10339170-the-10x-rule\n",
      "/book/show/59616977-building-a-second-brain\n",
      "/book/show/50542735-your-next-five-moves\n",
      "/book/show/115625.The_Psychology_of_Selling\n",
      "/book/show/155981.Psycho_Cybernetics_A_New_Way_to_Get_More_Living_Out_of_Life\n",
      "/book/show/25054961-dotcom-secrets\n",
      "/book/show/199017130-the-diary-of-a-ceo\n",
      "/book/show/52967057-copywriting-secrets\n",
      "/book/show/26535513-storytelling-with-data\n",
      "/book/show/578736.Zig_Ziglar_s_Secrets_of_Closing_the_Sale\n",
      "/book/show/43306206-the-courage-to-be-disliked\n",
      "/book/show/3063393-pragmatic-thinking-and-learning\n",
      "/book/show/123005124-the-32-principles\n",
      "/book/show/8576838-the-win-without-pitching-manifesto\n",
      "/book/show/66693.The_Crystal_Shard\n",
      "/book/show/33004.The_Weekend_Millionaire_s_Secrets_to_Investing_in_Real_Estate\n",
      "/book/show/25454056-sword-of-destiny\n",
      "/book/show/18656031-baptism-of-fire\n",
      "/book/show/14781491-the-time-of-contempt\n",
      "/book/show/6043781-blood-of-elves\n",
      "/book/show/40603587-the-last-wish\n",
      "/book/show/50310822-the-good-place-and-philosophy\n",
      "/book/show/136251.Harry_Potter_and_the_Deathly_Hallows\n",
      "/book/show/40603783-the-defining-decade\n",
      "/book/show/1.Harry_Potter_and_the_Half_Blood_Prince\n",
      "/book/show/6.Harry_Potter_and_the_Goblet_of_Fire\n",
      "/book/show/5.Harry_Potter_and_the_Prisoner_of_Azkaban\n",
      "/book/show/156940126-100m-leads\n",
      "/book/show/20786258-show-your-work\n",
      "/book/show/20582286-homeland\n",
      "/book/show/15881.Harry_Potter_and_the_Chamber_of_Secrets\n",
      "/book/show/39330937-the-laws-of-human-nature\n",
      "/book/show/30659.Meditations\n",
      "/book/show/23130805-the-slight-edge\n",
      "/book/show/20995.The_Art_of_Seduction\n",
      "/book/show/6708.The_Power_of_Now\n",
      "/book/show/12633800-models\n",
      "/book/show/29502358-wisdom-from-rich-dad-poor-dad\n",
      "/book/show/50209348-the-art-of-impossible\n",
      "/book/show/56961581-decoding-greatness\n",
      "/book/show/54571523-hook-point\n",
      "/book/show/644198.Primal_Branding\n",
      "/book/show/40591670-i-will-teach-you-to-be-rich\n",
      "/book/show/180116.Awaken_the_Giant_Within\n",
      "/book/show/194383.Hope_and_Help_for_Your_Nerves\n",
      "/book/show/63260686-she-comes-first\n",
      "/book/show/262731.The_Definitive_Book_of_Body_Language\n",
      "/book/show/187636.No_Death_No_Fear\n",
      "/book/show/16256798-the-one-thing\n",
      "/book/show/58188929-the-4-disciplines-of-execution\n",
      "/book/show/15014.Crucial_Conversations\n",
      "/book/show/13525945-so-good-they-can-t-ignore-you\n",
      "/book/show/49172.The_Four_Obsessions_of_an_Extraordinary_Executive\n",
      "/book/show/22103881-the-new-one-minute-manager\n",
      "/book/show/48691943-the-great-ceo-within\n",
      "/book/show/38900866-it-doesn-t-have-to-be-crazy-at-work\n",
      "/book/show/18886376-traction\n",
      "/book/show/52255414-happy-sexy-millionaire\n",
      "/book/show/52950915-die-with-zero\n",
      "/book/show/111209.Unconditional_Parenting\n",
      "/book/show/54785515-four-thousand-weeks\n",
      "/book/show/68428.The_Final_Empire\n",
      "/book/show/32620332-the-seven-husbands-of-evelyn-hugo\n",
      "/book/show/23164946-the-surrender-experiment\n",
      "/book/show/23692271-sapiens\n",
      "/book/show/79424.The_Way_of_the_Superior_Man\n",
      "/book/show/100158.The_Luck_Factor\n",
      "/book/show/1873060.The_Go_Giver\n",
      "/book/show/62613326-scorecard-marketing\n",
      "/book/show/56951247-the-7-habits-of-highly-effective-people\n",
      "/book/show/10541897-beyond-wealth\n",
      "/book/show/55189231-the-art-and-business-of-online-writing\n",
      "/book/show/60965575-someday-is-today\n",
      "/book/show/60151185-the-pathless-path\n",
      "/book/show/662.Atlas_Shrugged\n",
      "/book/show/60209479-how-to-invest\n",
      "/book/show/58733657-after-steve\n",
      "/book/show/6431063-how-the-mighty-fall\n",
      "/book/show/65215684-feel-good-productivity\n",
      "/book/show/15824358-the-first-90-days\n",
      "/book/show/27213329-grit\n",
      "/book/show/54898389-the-almanack-of-naval-ravikant\n",
      "/book/show/1380642.Starting_A_Business_for_Dummies\n",
      "/book/show/63079845-never-finished\n",
      "/book/show/38714388-the-dichotomy-of-leadership\n",
      "/book/show/23848190-extreme-ownership\n",
      "/book/show/13589182-mastery\n",
      "/book/show/3228917-outliers\n",
      "/book/show/40173654-living-the-80-20-way\n",
      "/book/show/51811688-the-bezos-letters\n",
      "/book/show/40405984-one-to-many\n",
      "/book/show/35254158-expert-secrets\n",
      "/book/show/24953002-the-sales-acceleration-formula\n",
      "/book/show/43535.Wooden_on_Leadership\n",
      "/book/show/152221974-ready-fire-aim\n",
      "/book/show/2208661.Yes_\n",
      "/book/show/29238799-pre-suasion\n",
      "/book/show/58612786-100m-offers\n",
      "/book/show/60018575-discipline-is-destiny\n",
      "/book/show/58145670-courage-is-calling\n",
      "/book/show/43582733-stillness-is-the-key\n",
      "/book/show/27036528-ego-is-the-enemy\n",
      "/book/show/77160.Across_the_Nightingale_Floor\n",
      "/book/show/867247.A_Book_of_Five_Rings\n",
      "/book/show/4898.Blue_Ocean_Strategy\n",
      "/book/show/4865.How_to_Win_Friends_and_Influence_People\n",
      "/book/show/56019043-beyond-order\n",
      "/book/show/30257963-12-rules-for-life\n",
      "/book/show/72193.Harry_Potter_and_the_Philosopher_s_Stone\n",
      "/book/show/2.Harry_Potter_and_the_Order_of_the_Phoenix\n",
      "/book/show/102030.Musashi\n",
      "/book/show/18872437-the-millionaire-fastlane\n",
      "/book/show/41721428-can-t-hurt-me\n",
      "/book/show/17354208-relentless\n",
      "/book/show/18668059-the-obstacle-is-the-way\n",
      "/book/show/13099738-steal-like-an-artist\n",
      "/book/show/50980191-the-beginner-s-guide-to-stoicism\n",
      "/book/show/2767052-the-hunger-games\n",
      "/book/show/10534.The_Art_of_War\n",
      "/book/show/242472.The_Black_Swan\n",
      "/book/show/16144853-leaders-eat-last\n",
      "/book/show/25744928-deep-work\n",
      "/book/show/313605.Getting_to_Yes\n",
      "/book/show/69571.Rich_Dad_Poor_Dad\n",
      "/book/show/123857637-never-split-the-difference\n",
      "/book/show/52523856-hell-yeah-or-no\n",
      "/book/show/41881472-the-psychology-of-money\n",
      "/book/show/37880811-make-time\n",
      "/book/show/30186948-think-and-grow-rich\n",
      "/book/show/25733994-the-productivity-project\n",
      "/book/show/12609433-the-power-of-habit\n",
      "/book/show/11468377-thinking-fast-and-slow\n",
      "/book/show/10127019-the-lean-startup\n",
      "/book/show/7108725-start-with-why\n",
      "/book/show/368593.The_4_Hour_Workweek\n",
      "/book/show/106835.The_Intelligent_Investor\n",
      "/book/show/81948.The_E_myth_Revisited\n",
      "/book/show/28815.Influence\n",
      "/book/show/1633.Getting_Things_Done\n",
      "/book/show/1303.The_48_Laws_of_Power\n",
      "/book/show/1052.The_Richest_Man_in_Babylon\n",
      "/book/show/998.The_Millionaire_Next_Door\n",
      "/book/show/44767458-dune\n",
      "/book/show/9969571-ready-player-one\n",
      "/book/show/2612.The_Tipping_Point\n",
      "/book/show/4069.Man_s_Search_for_Meaning\n",
      "/book/show/40121378-atomic-habits\n",
      "/book/show/28257707-the-subtle-art-of-not-giving-a-f-ck\n",
      "/book/show/76865.Good_to_Great\n",
      "/book/show/18050143-zero-to-one\n",
      "/book/show/30850861-the-happiness-equation\n",
      "/book/show/40591677-keep-going\n"
     ]
    }
   ],
   "source": [
    "# Parse the HTML with BeautifulSoup\n",
    "soup = BeautifulSoup(goodreads_html_data, 'html.parser')\n",
    "\n",
    "# Find the div with class 'js-dataTooltip'\n",
    "data_div = soup.find('div', class_='js-dataTooltip')\n",
    "\n",
    "# Find the table with class 'table stacked' within the 'js-dataTooltip' div\n",
    "books_table = data_div.find('table', class_='table stacked')\n",
    "\n",
    "# Check if the table is found\n",
    "if not(books_table):\n",
    "    print(\"Table not found.\")\n",
    "    exit(1)\n",
    "\n",
    "# Find all td elements with class 'field cover' within the 'books_table'\n",
    "cover_tds = books_table.find_all('td', class_='field cover')\n",
    "\n",
    "# Extract the href attribute from each 'a' element within the 'cover_tds'\n",
    "# Using the map function to extract the value of the 'href' attribute from the 'a' tag in each 'td' element\n",
    "# The lambda function takes a 'td' element and finds the 'a' tag within it, then extracts the 'href' attribute\n",
    "# The result is a list of 'href' attribute values corresponding to each 'td' element in 'cover_tds'\n",
    "href_values = list(map(lambda td:td.find('a')['href'], cover_tds))\n",
    "    \n",
    "    \n",
    "\n",
    "for href_value in href_values:\n",
    "    print(href_value)"
   ]
  },
  {
   "cell_type": "markdown",
   "metadata": {},
   "source": [
    "#### Gather HTML Data From A Book Page -> goodreads_html_data"
   ]
  },
  {
   "cell_type": "code",
   "execution_count": 15,
   "metadata": {},
   "outputs": [],
   "source": [
    "url = \"https://www.goodreads.com\" + href_values[0]\n",
    "\n",
    "driver = get_site_data(driver, url, scrolls_num = 5, sleep_time = 5)\n",
    "book_html_data = driver.page_source"
   ]
  },
  {
   "cell_type": "markdown",
   "metadata": {},
   "source": [
    "#### Defain Book Page Functions"
   ]
  },
  {
   "cell_type": "code",
   "execution_count": 19,
   "metadata": {},
   "outputs": [],
   "source": [
    "# Gets the book's name from the book's page soup\n",
    "def get_book_title(soup):\n",
    "    # Find the div with class 'BookPageTitleSection__title'\n",
    "    title_section_div = soup.find('div', class_='BookPageTitleSection__title')\n",
    "\n",
    "    # Find the h1 aria-label content within the 'BookPageTitleSection__title' div \n",
    "    book_title = title_section_div.find('h1')['aria-label']\n",
    "\n",
    "    return book_title\n",
    "\n",
    "# Gets the book's genres from the book's page soup\n",
    "def get_book_genres(soup):\n",
    "    # Find all spans with class 'BookPageMetadataSection__genreButton'\n",
    "    genre_buttons = soup.find_all('span', class_='BookPageMetadataSection__genreButton')\n",
    "\n",
    "    # Using the map function to extract the text content of the 'span' tag with the specified class within each 'genre_button' element\n",
    "    # The lambda function takes a 'genre_button' element and finds the 'span' tag with the specified class within it\n",
    "    # The result is a list of text content corresponding to each 'span' tag within 'genre_buttons'\n",
    "\n",
    "    return list(map(lambda button:button.find('span',class_ = 'Button__labelItem').text,genre_buttons))"
   ]
  },
  {
   "cell_type": "markdown",
   "metadata": {},
   "source": [
    "#### Gather Relevent Data From A Book's Page HTML Data"
   ]
  },
  {
   "cell_type": "code",
   "execution_count": 20,
   "metadata": {},
   "outputs": [
    {
     "name": "stdout",
     "output_type": "stream",
     "text": [
      "['Business', 'Nonfiction', 'Entrepreneurship', 'Audiobook', 'Buisness', 'Leadership', 'Psychology']\n"
     ]
    }
   ],
   "source": [
    "# Parse the updated HTML with BeautifulSoup\n",
    "soup = BeautifulSoup(book_html_data, 'html.parser')\n",
    "\n",
    "# Gets the book's name from the book's page soup\n",
    "book_title = get_book_title(soup)\n",
    "\n",
    "# Gets the book's genres from the book's page soup\n",
    "books_genres = get_book_genres(soup)\n",
    "\n",
    "\n",
    "print(books_genres)"
   ]
  },
  {
   "cell_type": "code",
   "execution_count": 18,
   "metadata": {},
   "outputs": [],
   "source": [
    "driver.quit()"
   ]
  }
 ],
 "metadata": {
  "kernelspec": {
   "display_name": "Python 3",
   "language": "python",
   "name": "python3"
  },
  "language_info": {
   "codemirror_mode": {
    "name": "ipython",
    "version": 3
   },
   "file_extension": ".py",
   "mimetype": "text/x-python",
   "name": "python",
   "nbconvert_exporter": "python",
   "pygments_lexer": "ipython3",
   "version": "3.10.7"
  }
 },
 "nbformat": 4,
 "nbformat_minor": 2
}
